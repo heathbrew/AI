{
  "nbformat": 4,
  "nbformat_minor": 0,
  "metadata": {
    "colab": {
      "name": "Implement MLP Neural Network.ipynb",
      "provenance": [],
      "toc_visible": true
    },
    "kernelspec": {
      "name": "python3",
      "display_name": "Python 3"
    },
    "language_info": {
      "name": "python"
    }
  },
  "cells": [
    {
      "cell_type": "code",
      "execution_count": 1,
      "metadata": {
        "id": "hf0xwnGegJSa"
      },
      "outputs": [],
      "source": [
        "from __future__ import print_function\n",
        "import numpy as np ## For numerical python\n",
        "np.random.seed(42)"
      ]
    },
    {
      "cell_type": "code",
      "source": [
        "class Layer:\n",
        "    \n",
        "    #A building block. Each layer is capable of performing two things:\n",
        "    #- Process input to get output:           output = layer.forward(input)\n",
        "    \n",
        "    #- Propagate gradients through itself:    grad_input = layer.backward(input, grad_output)\n",
        "    \n",
        "    #Some layers also have learnable parameters which they update during layer.backward.\n",
        "    \n",
        "    def __init__(self):\n",
        "        # Here we can initialize layer parameters (if any) and auxiliary stuff.\n",
        "        # A dummy layer does nothing\n",
        "        pass\n",
        "    \n",
        "    def forward(self, input):\n",
        "        # Takes input data of shape [batch, input_units], returns output data [batch, output_units]\n",
        "        \n",
        "        # A dummy layer just returns whatever it gets as input.\n",
        "        return input\n",
        "    def backward(self, input, grad_output):\n",
        "        # Performs a backpropagation step through the layer, with respect to the given input.\n",
        "        \n",
        "        # To compute loss gradients w.r.t input, we need to apply chain rule (backprop):\n",
        "        \n",
        "        # d loss / d x  = (d loss / d layer) * (d layer / d x)\n",
        "        \n",
        "        # Luckily, we already receive d loss / d layer as input, so you only need to multiply it by d layer / d x.\n",
        "        \n",
        "        # If our layer has parameters (e.g. dense layer), we also need to update them here using d loss / d layer\n",
        "        \n",
        "        # The gradient of a dummy layer is precisely grad_output, but we'll write it more explicitly\n",
        "        num_units = input.shape[1]\n",
        "        \n",
        "        d_layer_d_input = np.eye(num_units)\n",
        "        \n",
        "        return np.dot(grad_output, d_layer_d_input) # chain rule"
      ],
      "metadata": {
        "id": "YbCiLDBFBbpR"
      },
      "execution_count": 2,
      "outputs": []
    },
    {
      "cell_type": "code",
      "source": [
        "class ReLU(Layer):\n",
        "    def __init__(self):\n",
        "        # ReLU layer simply applies elementwise rectified linear unit to all inputs\n",
        "        pass\n",
        "    \n",
        "    def forward(self, input):\n",
        "        # Apply elementwise ReLU to [batch, input_units] matrix\n",
        "        relu_forward = np.maximum(0,input)\n",
        "        return relu_forward\n",
        "    \n",
        "    def backward(self, input, grad_output):\n",
        "        # Compute gradient of loss w.r.t. ReLU input\n",
        "        relu_grad = input > 0\n",
        "        return grad_output*relu_grad"
      ],
      "metadata": {
        "id": "AdN0vnAFBd6u"
      },
      "execution_count": 3,
      "outputs": []
    },
    {
      "cell_type": "code",
      "source": [
        "class Dense(Layer):\n",
        "    def __init__(self, input_units, output_units, learning_rate=0.1):\n",
        "        # A dense layer is a layer which performs a learned affine transformation:\n",
        "        # f(x) = <W*x> + b\n",
        "        \n",
        "        self.learning_rate = learning_rate\n",
        "        self.weights = np.random.normal(loc=0.0, \n",
        "                                        scale = np.sqrt(2/(input_units+output_units)), \n",
        "                                        size = (input_units,output_units))\n",
        "        self.biases = np.zeros(output_units)\n",
        "        \n",
        "    def forward(self,input):\n",
        "        # Perform an affine transformation:\n",
        "        # f(x) = <W*x> + b\n",
        "        \n",
        "        # input shape: [batch, input_units]\n",
        "        # output shape: [batch, output units]\n",
        "        \n",
        "        return np.dot(input,self.weights) + self.biases\n",
        "    \n",
        "    def backward(self,input,grad_output):\n",
        "        # compute d f / d x = d f / d dense * d dense / d x\n",
        "        # where d dense/ d x = weights transposed\n",
        "        grad_input = np.dot(grad_output, self.weights.T)\n",
        "        \n",
        "        # compute gradient w.r.t. weights and biases\n",
        "        grad_weights = np.dot(input.T, grad_output)\n",
        "        grad_biases = grad_output.mean(axis=0)*input.shape[0]\n",
        "        \n",
        "        assert grad_weights.shape == self.weights.shape and grad_biases.shape == self.biases.shape\n",
        "        \n",
        "        # Here we perform a stochastic gradient descent step. \n",
        "        self.weights = self.weights - self.learning_rate * grad_weights\n",
        "        self.biases = self.biases - self.learning_rate * grad_biases\n",
        "        \n",
        "        return grad_input"
      ],
      "metadata": {
        "id": "WIUlpWQkBk2t"
      },
      "execution_count": 4,
      "outputs": []
    },
    {
      "cell_type": "code",
      "source": [
        "def softmax_crossentropy_with_logits(logits,reference_answers):\n",
        "    # Compute crossentropy from logits[batch,n_classes] and ids of correct answers\n",
        "    logits_for_answers = logits[np.arange(len(logits)),reference_answers]\n",
        "    \n",
        "    xentropy = - logits_for_answers + np.log(np.sum(np.exp(logits),axis=-1))\n",
        "    \n",
        "    return xentropy\n",
        "def grad_softmax_crossentropy_with_logits(logits,reference_answers):\n",
        "    # Compute crossentropy gradient from logits[batch,n_classes] and ids of correct answers\n",
        "    ones_for_answers = np.zeros_like(logits)\n",
        "    ones_for_answers[np.arange(len(logits)),reference_answers] = 1\n",
        "    \n",
        "    softmax = np.exp(logits) / np.exp(logits).sum(axis=-1,keepdims=True)\n",
        "    \n",
        "    return (- ones_for_answers + softmax) / logits.shape[0]"
      ],
      "metadata": {
        "id": "bzHNdoY_BrJB"
      },
      "execution_count": 5,
      "outputs": []
    },
    {
      "cell_type": "code",
      "source": [
        "%matplotlib inline   # download and install keras without it below code \n",
        "                      # will not run\n",
        "\n",
        "from keras.models import Sequential\n",
        "from keras.layers import Dense, Activation, Dropout, Flatten, MaxPooling2D\n",
        "from keras.layers.convolutional import Conv2D \n",
        "from keras.layers.recurrent import SimpleRNN, LSTM, GRU \n",
        "from keras.utils import np_utils\n",
        "from keras import backend as K\n",
        "\n",
        "from distutils.version import LooseVersion as LV\n",
        "from keras import __version__\n",
        "\n",
        "from IPython.display import SVG\n",
        "from keras.utils.vis_utils import model_to_dot\n",
        "\n",
        "from keras.datasets import mnist, fashion_mnist, imdb\n",
        "\n",
        "from sklearn.model_selection import train_test_split\n",
        "\n",
        "import numpy as np\n",
        "import matplotlib.pyplot as plt\n",
        "import seaborn as sns\n",
        "\n",
        "print('Using Keras version:', __version__, 'backend:', K.backend())\n",
        "assert(LV(__version__) >= LV(\"2.0.0\"))"
      ],
      "metadata": {
        "colab": {
          "base_uri": "https://localhost:8080/"
        },
        "id": "HuSaJ8FaDgsu",
        "outputId": "c0708f0f-3769-4dac-e712-f2b31f0b00d8"
      },
      "execution_count": 7,
      "outputs": [
        {
          "output_type": "stream",
          "name": "stdout",
          "text": [
            "Using Keras version: 2.8.0 backend: tensorflow\n"
          ]
        }
      ]
    },
    {
      "cell_type": "code",
      "source": [
        "import keras\n",
        "import matplotlib.pyplot as plt\n",
        "%matplotlib inline\n",
        "def load_dataset(flatten=False):\n",
        "    (X_train, y_train), (X_test, y_test) = keras.datasets.mnist.load_data()\n",
        "    # normalize x\n",
        "    X_train = X_train.astype(float) / 255.\n",
        "    X_test = X_test.astype(float) / 255.\n",
        "    # we reserve the last 10000 training examples for validation\n",
        "    X_train, X_val = X_train[:-10000], X_train[-10000:]\n",
        "    y_train, y_val = y_train[:-10000], y_train[-10000:]\n",
        "    if flatten:\n",
        "        X_train = X_train.reshape([X_train.shape[0], -1])\n",
        "        X_val = X_val.reshape([X_val.shape[0], -1])\n",
        "        X_test = X_test.reshape([X_test.shape[0], -1])\n",
        "    return X_train, y_train, X_val, y_val, X_test, y_test\n",
        "X_train, y_train, X_val, y_val, X_test, y_test = load_dataset(flatten=True)\n",
        "## Let's look at some example\n",
        "plt.figure(figsize=[6,6])\n",
        "for i in range(4):\n",
        "    plt.subplot(2,2,i+1)\n",
        "    plt.title(\"Label: %i\"%y_train[i])\n",
        "    plt.imshow(X_train[i].reshape([28,28]),cmap='gray');"
      ],
      "metadata": {
        "colab": {
          "base_uri": "https://localhost:8080/",
          "height": 442
        },
        "id": "kdUruOpfBzqi",
        "outputId": "e88fe7ab-da47-410f-fd1b-945a368a00ec"
      },
      "execution_count": 8,
      "outputs": [
        {
          "output_type": "stream",
          "name": "stdout",
          "text": [
            "Downloading data from https://storage.googleapis.com/tensorflow/tf-keras-datasets/mnist.npz\n",
            "11493376/11490434 [==============================] - 0s 0us/step\n",
            "11501568/11490434 [==============================] - 0s 0us/step\n"
          ]
        },
        {
          "output_type": "display_data",
          "data": {
            "text/plain": [
              "<Figure size 432x432 with 4 Axes>"
            ],
            "image/png": "[encoded data removed]"
          },
          "metadata": {
            "needs_background": "light"
          }
        }
      ]
    },
    {
      "cell_type": "code",
      "source": [
        "network = []\n",
        "#network.append(Dense(X_train.shape[1]), 100)\n",
        "#network.append(Dense(X_train.shape[1]))\n",
        "network.append(ReLU())\n",
        "#network.append(Dense(100,200))\n",
        "#network.append(Dense(100))\n",
        "network.append(ReLU())\n",
        "#network.add(Dense(200,10))\n",
        "\n",
        "def forward(network, X):\n",
        "    # Compute activations of all network layers by applying them sequentially.\n",
        "    # Return a list of activations for each layer. \n",
        "    \n",
        "    activations = []\n",
        "    input = X\n",
        "    # Looping through each layer\n",
        "    for l in network:\n",
        "        activations.append(l.forward(input))\n",
        "        # Updating input to last layer output\n",
        "        input = activations[-1]\n",
        "    \n",
        "    assert len(activations) == len(network)\n",
        "    return activations\n",
        "def predict(network,X):\n",
        "    # Compute network predictions. Returning indices of largest Logit probability\n",
        "    logits = forward(network,X)[-1]\n",
        "    return logits.argmax(axis=-1)\n",
        "def train(network,X,y):\n",
        "    # Train our network on a given batch of X and y.\n",
        "    # We first need to run forward to get all layer activations.\n",
        "    # Then we can run layer.backward going from last to first layer.\n",
        "    # After we have called backward for all layers, all Dense layers have already made one gradient step.\n",
        "    \n",
        "    \n",
        "    # Get the layer activations\n",
        "    layer_activations = forward(network,X)\n",
        "    layer_inputs = [X]+layer_activations  #layer_input[i] is an input for network[i]\n",
        "    logits = layer_activations[-1]\n",
        "    \n",
        "    # Compute the loss and the initial gradient\n",
        "    loss = softmax_crossentropy_with_logits(logits,y)\n",
        "    loss_grad = grad_softmax_crossentropy_with_logits(logits,y)\n",
        "    \n",
        "    # Propagate gradients through the network\n",
        "    # Reverse propogation as this is backprop\n",
        "    for layer_index in range(len(network))[::-1]:\n",
        "        layer = network[layer_index]\n",
        "        \n",
        "        loss_grad = layer.backward(layer_inputs[layer_index],loss_grad) #grad w.r.t. input, also weight updates\n",
        "        \n",
        "    return np.mean(loss)"
      ],
      "metadata": {
        "id": "vY6Xw9IHD_DN"
      },
      "execution_count": 43,
      "outputs": []
    },
    {
      "cell_type": "code",
      "source": [
        "from tqdm import trange\n",
        "def iterate_minibatches(inputs, targets, batchsize, shuffle=False):\n",
        "    assert len(inputs) == len(targets)\n",
        "    if shuffle:\n",
        "        indices = np.random.permutation(len(inputs))\n",
        "    for start_idx in trange(0, len(inputs) - batchsize + 1, batchsize):\n",
        "        if shuffle:\n",
        "            excerpt = indices[start_idx:start_idx + batchsize]\n",
        "        else:\n",
        "            excerpt = slice(start_idx, start_idx + batchsize)\n",
        "        yield inputs[excerpt], targets[excerpt]\n",
        "from IPython.display import clear_output\n",
        "train_log = []\n",
        "val_log = []\n",
        "for epoch in range(10):\n",
        "    for x_batch,y_batch in iterate_minibatches(X_train,y_train,batchsize=32,shuffle=True):\n",
        "        train(network,x_batch,y_batch)\n",
        "    \n",
        "    train_log.append(np.mean(predict(network,X_train)==y_train))\n",
        "    val_log.append(np.mean(predict(network,X_val)==y_val))\n",
        "    \n",
        "    clear_output()\n",
        "    print(\"Epoch\",epoch)\n",
        "    print(\"Train accuracy:\",train_log[-1])\n",
        "    print(\"Val accuracy:\",val_log[-1])\n",
        "    plt.plot(train_log,label='train accuracy')\n",
        "    plt.plot(val_log,label='val accuracy')\n",
        "    plt.legend(loc='best')\n",
        "    plt.grid()\n",
        "    plt.show()\n",
        "#Epoch 24\n",
        "#Train accuracy: 1.0\n",
        "#Val accuracy: 0.9809"
      ],
      "metadata": {
        "colab": {
          "base_uri": "https://localhost:8080/",
          "height": 317
        },
        "id": "mDw2UP5OEWYh",
        "outputId": "e734c7d8-7bd3-471a-b607-a91e5dffdbf3"
      },
      "execution_count": 44,
      "outputs": [
        {
          "output_type": "stream",
          "name": "stdout",
          "text": [
            "Epoch 9\n",
            "Train accuracy: 0.0\n",
            "Val accuracy: 0.0\n"
          ]
        },
        {
          "output_type": "display_data",
          "data": {
            "text/plain": [
              "<Figure size 432x288 with 1 Axes>"
            ],
            "image/png": "[encoded data removed]"
          },
          "metadata": {
            "needs_background": "light"
          }
        }
      ]
    }
  ]
}