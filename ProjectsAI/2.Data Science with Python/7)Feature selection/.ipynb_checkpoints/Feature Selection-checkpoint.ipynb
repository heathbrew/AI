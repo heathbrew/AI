{
 "cells": [
  {
   "cell_type": "markdown",
   "id": "e028de81",
   "metadata": {},
   "source": [
    "Problem Statement\n",
    "\n",
    "Consider the iris dataset preloaded within the mixtend library. Segregate\n",
    "the data and labels accordingly and transform the data to two linear\n",
    "discriminants.\n",
    "\n",
    "\n",
    "You are supposed to perform LDA as a dimensionality reduction technique.\n"
   ]
  },
  {
   "cell_type": "code",
   "execution_count": null,
   "id": "4f90bc0a",
   "metadata": {},
   "outputs": [],
   "source": []
  }
 ],
 "metadata": {
  "kernelspec": {
   "display_name": "Python 3 (ipykernel)",
   "language": "python",
   "name": "python3"
  },
  "language_info": {
   "codemirror_mode": {
    "name": "ipython",
    "version": 3
   },
   "file_extension": ".py",
   "mimetype": "text/x-python",
   "name": "python",
   "nbconvert_exporter": "python",
   "pygments_lexer": "ipython3",
   "version": "3.9.0"
  }
 },
 "nbformat": 4,
 "nbformat_minor": 5
}
