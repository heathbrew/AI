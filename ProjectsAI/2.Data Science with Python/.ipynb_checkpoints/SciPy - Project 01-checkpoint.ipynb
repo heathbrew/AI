{
 "cells": [
  {
   "attachments": {},
   "cell_type": "markdown",
   "id": "56ef4997",
   "metadata": {},
   "source": [
    "Problem Statement\n",
    "Import the package linalg from the SciPy library and use the sove method to solve\n",
    "the provided linear equations to find the value of x and y"
   ]
  },
  {
   "cell_type": "code",
   "execution_count": 2,
   "id": "0d4c4e67",
   "metadata": {},
   "outputs": [],
   "source": [
    "#import required liabraries\n",
    "import numpy as np\n",
    "from scipy import linalg"
   ]
  },
  {
   "cell_type": "code",
   "execution_count": 3,
   "id": "7a185ee8",
   "metadata": {},
   "outputs": [],
   "source": [
    "#Test has 30 questions and worth 150 marks\n",
    "#True ansd false questions worht 4 marks each\n",
    "#multiple choice questions worth questions worth 9 points each\n",
    "\n",
    "#let x is the number of true/false questions \n",
    "#let y is the number of multiple choice questions \n",
    "\n",
    "# ( x + y = 30)\n",
    "# ( 4x + 9y =150)\n",
    "testQuestionVariable = np.array([[1,1],[4,9]])\n",
    "testQuestionValue = np.array([30,150])"
   ]
  },
  {
   "cell_type": "code",
   "execution_count": 4,
   "id": "6cc262be",
   "metadata": {},
   "outputs": [
    {
     "data": {
      "text/plain": [
       "array([24.,  6.])"
      ]
     },
     "execution_count": 4,
     "metadata": {},
     "output_type": "execute_result"
    }
   ],
   "source": [
    "#use linalg function of Scipy\n",
    "#use solve method to solve the linear equation and find value for x and y\n",
    "linalg.solve(testQuestionVariable,testQuestionValue)"
   ]
  }
 ],
 "metadata": {
  "kernelspec": {
   "display_name": "Python 3 (ipykernel)",
   "language": "python",
   "name": "python3"
  },
  "language_info": {
   "codemirror_mode": {
    "name": "ipython",
    "version": 3
   },
   "file_extension": ".py",
   "mimetype": "text/x-python",
   "name": "python",
   "nbconvert_exporter": "python",
   "pygments_lexer": "ipython3",
   "version": "3.10.5"
  }
 },
 "nbformat": 4,
 "nbformat_minor": 5
}
